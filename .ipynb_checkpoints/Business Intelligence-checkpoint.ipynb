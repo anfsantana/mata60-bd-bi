{
 "cells": [
  {
   "cell_type": "markdown",
   "metadata": {},
   "source": [
    "> Universidade Federal da Bahia\n",
    "\n",
    "> Instituto de Matemática e Estatística\n",
    "\n",
    "> Departamento de Ciência da Computação\n",
    "\n",
    "> MATA60 - Banco de Dados\n",
    "\n",
    "> Docente: Vaninha Vieira \n",
    "\n",
    "> Alunos: Angelmário Santana, Tassia Silva e Litiano Moura\n",
    "\n",
    "> Data: 31 de Maio de 2018\n",
    "\n",
    "\n",
    ">> ## Tema: Business Intelligence \n",
    ">> **RELATÓRIO DA ANÁLISE ESTATÍSTICA DA BASE DE DADOS SOBRE PEDIDOS DE ALIMENTOS REALIZADOS POR APLICATIVO NO 2° SEMESTRE DE 2016**.\n",
    "\n",
    "\n",
    "### Introdução\n",
    "\n",
    "   Nos últimos anos um mercado que vem chamando a atenção de investidores é o mercado de delivery, que está cada vez mais virando tendência entre os brasileiros. Segundo a Associação Brasileira de Bares e Restaurantes (ABRASEL) já em 2015, o mercado brasileiro movimentava 9 bilhões de reais por ano e em 2017 o faturamento passou dos 10 bilhões.\n",
    "\n",
    "   Muitos estabelecimentos que tinham apenas espaços físicos, têm investido no serviço de delivery para atrair clientes e aumentar o faturamento. O SEBRAE reforça a preferência dos consumidores\n",
    "por lugares que ofereçam entrega em domicílio, e afirma que 12%, segundo pesquisa realizada, não possuem nem loja física, e seguem trabalhando apenas com entregas inclusive por aplicativos.\n",
    "\n",
    "   Muitos consumidores entrevistados afirmaram que pelo comodismo de não ter que enfrentar o trânsito pelas taxas de serviços e de estacionamento. Entre outras, faz mais sentido ir no aplicativo e escolher no cardápio e solicitar a entrega, além da facilidade de ver vários tipos de comida com apenas alguns cliques, tem atraído vários clientes mesmo havendo taxa de entrega. Ainda assim vale a pena conferir as ofertas oferecidas pelo comércio nos aplicativos, explica a pesquisa.\n",
    "   \n",
    "   Neste trabalho, foi nos concedido uma base de dados que mostra a respeito das entregas de alimentos em algumas cidades brasileiras com intuito de inferir informações a respeito e aplicar Business Intelligence.\n",
    "   \n",
    "### Analisando os dados por meio estatístico\n",
    "\n",
    "   Após pesquisar sobre o assunto, foi realizada uma análise na base da equipe. Foi necessário analisar os atributos da base para entender o comportamento dos dados. A equipe  contou com ajuda do [Jupyter Notebook](http://jupyter.org/) que através de programação em Python nos ajudou a manipular os dados e desenvolver os gráficos que serão apresentados a seguir para construção do trabalho.\n",
    "\n"
   ]
  },
  {
   "cell_type": "code",
   "execution_count": 610,
   "metadata": {},
   "outputs": [],
   "source": [
    "import numpy as np\n",
    "import pandas as pd\n",
    "import statsmodels as st\n",
    "import matplotlib.pyplot as plt\n",
    "import seaborn as sns\n",
    "from pandas.plotting import table\n",
    "from ipywidgets import widgets\n",
    "import datetime"
   ]
  },
  {
   "cell_type": "code",
   "execution_count": 611,
   "metadata": {},
   "outputs": [],
   "source": [
    "#Carregando a base de dados\n",
    "base = pd.read_csv('aplicativo.csv')"
   ]
  },
  {
   "cell_type": "markdown",
   "metadata": {},
   "source": [
    "- O primeiro passo foi observar a base de dados para obter uma visão geral dos atributos que existem na base."
   ]
  },
  {
   "cell_type": "code",
   "execution_count": 612,
   "metadata": {
    "scrolled": true
   },
   "outputs": [
    {
     "data": {
      "text/html": [
       "<div>\n",
       "<style scoped>\n",
       "    .dataframe tbody tr th:only-of-type {\n",
       "        vertical-align: middle;\n",
       "    }\n",
       "\n",
       "    .dataframe tbody tr th {\n",
       "        vertical-align: top;\n",
       "    }\n",
       "\n",
       "    .dataframe thead th {\n",
       "        text-align: right;\n",
       "    }\n",
       "</style>\n",
       "<table border=\"1\" class=\"dataframe\">\n",
       "  <thead>\n",
       "    <tr style=\"text-align: right;\">\n",
       "      <th></th>\n",
       "      <th>DATA_PEDIDO</th>\n",
       "      <th>HORA_PEDIDO</th>\n",
       "      <th>DIA_PEDIDO</th>\n",
       "      <th>VALOR_PRODUTOS</th>\n",
       "      <th>TAXA_ENTREGA</th>\n",
       "      <th>TOTAL_PEDIDO</th>\n",
       "      <th>FORMA_PAGAMENTO</th>\n",
       "      <th>AVALIACAO</th>\n",
       "      <th>STATUS</th>\n",
       "      <th>ID_ESTABELECIMENTO</th>\n",
       "      <th>TIPO_ESTABELECIMENTO</th>\n",
       "      <th>ID_USUARIO</th>\n",
       "      <th>DDD_USUARIO</th>\n",
       "      <th>DATA_CADASTRO_USUARIO</th>\n",
       "      <th>PRIMEIRO_PEDIDO</th>\n",
       "      <th>BAIRRO_USUARIO</th>\n",
       "      <th>CIDADE_USUARIO</th>\n",
       "      <th>SO_DISPOSITIVO</th>\n",
       "    </tr>\n",
       "  </thead>\n",
       "  <tbody>\n",
       "    <tr>\n",
       "      <th>0</th>\n",
       "      <td>2016-07-05</td>\n",
       "      <td>19:51</td>\n",
       "      <td>Sunday</td>\n",
       "      <td>16.0</td>\n",
       "      <td>4.0</td>\n",
       "      <td>20.0</td>\n",
       "      <td>Dinheiro</td>\n",
       "      <td>NaN</td>\n",
       "      <td>Entregue</td>\n",
       "      <td>16</td>\n",
       "      <td>Lanchonete</td>\n",
       "      <td>50720</td>\n",
       "      <td>77</td>\n",
       "      <td>2016-07-05</td>\n",
       "      <td>Sim</td>\n",
       "      <td>Ipanema</td>\n",
       "      <td>Vitória da Conquista</td>\n",
       "      <td>Android</td>\n",
       "    </tr>\n",
       "    <tr>\n",
       "      <th>1</th>\n",
       "      <td>2016-07-05</td>\n",
       "      <td>20:58</td>\n",
       "      <td>Sunday</td>\n",
       "      <td>28.0</td>\n",
       "      <td>4.0</td>\n",
       "      <td>32.0</td>\n",
       "      <td>Dinheiro</td>\n",
       "      <td>NaN</td>\n",
       "      <td>Recusado</td>\n",
       "      <td>16</td>\n",
       "      <td>Lanchonete</td>\n",
       "      <td>48784</td>\n",
       "      <td>77</td>\n",
       "      <td>2016-06-18</td>\n",
       "      <td>Não</td>\n",
       "      <td>Candeias</td>\n",
       "      <td>Vitória da Conquista</td>\n",
       "      <td>iOS</td>\n",
       "    </tr>\n",
       "    <tr>\n",
       "      <th>2</th>\n",
       "      <td>2016-07-05</td>\n",
       "      <td>21:35</td>\n",
       "      <td>Sunday</td>\n",
       "      <td>13.0</td>\n",
       "      <td>4.0</td>\n",
       "      <td>17.0</td>\n",
       "      <td>Dinheiro</td>\n",
       "      <td>NaN</td>\n",
       "      <td>Recusado</td>\n",
       "      <td>16</td>\n",
       "      <td>Lanchonete</td>\n",
       "      <td>7016</td>\n",
       "      <td>77</td>\n",
       "      <td>2015-08-10</td>\n",
       "      <td>Não</td>\n",
       "      <td>Urbis I</td>\n",
       "      <td>Vitória da Conquista</td>\n",
       "      <td>Android</td>\n",
       "    </tr>\n",
       "    <tr>\n",
       "      <th>3</th>\n",
       "      <td>2016-07-06</td>\n",
       "      <td>23:22</td>\n",
       "      <td>Monday</td>\n",
       "      <td>11.5</td>\n",
       "      <td>4.0</td>\n",
       "      <td>15.5</td>\n",
       "      <td>Dinheiro</td>\n",
       "      <td>NaN</td>\n",
       "      <td>Entregue</td>\n",
       "      <td>16</td>\n",
       "      <td>Lanchonete</td>\n",
       "      <td>48536</td>\n",
       "      <td>77</td>\n",
       "      <td>2016-06-15</td>\n",
       "      <td>Não</td>\n",
       "      <td>Alto Maron</td>\n",
       "      <td>Vitória da Conquista</td>\n",
       "      <td>Android</td>\n",
       "    </tr>\n",
       "    <tr>\n",
       "      <th>4</th>\n",
       "      <td>2016-07-07</td>\n",
       "      <td>20:08</td>\n",
       "      <td>Tuesday</td>\n",
       "      <td>19.0</td>\n",
       "      <td>4.0</td>\n",
       "      <td>23.0</td>\n",
       "      <td>Dinheiro</td>\n",
       "      <td>NaN</td>\n",
       "      <td>Recusado</td>\n",
       "      <td>16</td>\n",
       "      <td>Lanchonete</td>\n",
       "      <td>21160</td>\n",
       "      <td>77</td>\n",
       "      <td>2015-12-21</td>\n",
       "      <td>Não</td>\n",
       "      <td>Candeias</td>\n",
       "      <td>Vitória da Conquista</td>\n",
       "      <td>Android</td>\n",
       "    </tr>\n",
       "  </tbody>\n",
       "</table>\n",
       "</div>"
      ],
      "text/plain": [
       "  DATA_PEDIDO HORA_PEDIDO DIA_PEDIDO  VALOR_PRODUTOS  TAXA_ENTREGA  \\\n",
       "0  2016-07-05       19:51     Sunday            16.0           4.0   \n",
       "1  2016-07-05       20:58     Sunday            28.0           4.0   \n",
       "2  2016-07-05       21:35     Sunday            13.0           4.0   \n",
       "3  2016-07-06       23:22     Monday            11.5           4.0   \n",
       "4  2016-07-07       20:08    Tuesday            19.0           4.0   \n",
       "\n",
       "   TOTAL_PEDIDO FORMA_PAGAMENTO  AVALIACAO    STATUS  ID_ESTABELECIMENTO  \\\n",
       "0          20.0        Dinheiro        NaN  Entregue                  16   \n",
       "1          32.0        Dinheiro        NaN  Recusado                  16   \n",
       "2          17.0        Dinheiro        NaN  Recusado                  16   \n",
       "3          15.5        Dinheiro        NaN  Entregue                  16   \n",
       "4          23.0        Dinheiro        NaN  Recusado                  16   \n",
       "\n",
       "  TIPO_ESTABELECIMENTO  ID_USUARIO DDD_USUARIO DATA_CADASTRO_USUARIO  \\\n",
       "0           Lanchonete       50720          77            2016-07-05   \n",
       "1           Lanchonete       48784          77            2016-06-18   \n",
       "2           Lanchonete        7016          77            2015-08-10   \n",
       "3           Lanchonete       48536          77            2016-06-15   \n",
       "4           Lanchonete       21160          77            2015-12-21   \n",
       "\n",
       "  PRIMEIRO_PEDIDO BAIRRO_USUARIO        CIDADE_USUARIO SO_DISPOSITIVO  \n",
       "0             Sim        Ipanema  Vitória da Conquista        Android  \n",
       "1             Não       Candeias  Vitória da Conquista            iOS  \n",
       "2             Não        Urbis I  Vitória da Conquista        Android  \n",
       "3             Não     Alto Maron  Vitória da Conquista        Android  \n",
       "4             Não       Candeias  Vitória da Conquista        Android  "
      ]
     },
     "execution_count": 612,
     "metadata": {},
     "output_type": "execute_result"
    }
   ],
   "source": [
    "#5 primeiros registros - Visão inicial dos dados\n",
    "base.head(5)"
   ]
  },
  {
   "cell_type": "markdown",
   "metadata": {},
   "source": [
    "- Neste gráfico de Boxplot foi possível verificar alguns atributos e a sua distribuição no caso do “valor dos produtos”, “taxa de entrega” e do “total de pedidos”,  em que vimos a grande variedade entres as amostras coletadas, os valores discrepantes e a divisão dos dados quanto aos atributos mencionados.\n"
   ]
  },
  {
   "cell_type": "code",
   "execution_count": 613,
   "metadata": {
    "scrolled": false
   },
   "outputs": [
    {
     "data": {
      "image/png": "[encoded data removed]",
      "text/plain": [
       "<matplotlib.figure.Figure at 0x7f6c80aea400>"
      ]
     },
     "metadata": {},
     "output_type": "display_data"
    }
   ],
   "source": [
    "#Boxplot para verificar os valores discrepantes e a divisão dos dados\n",
    "# do atributos mencionados\n",
    "def boxplot_analise():\n",
    "    fig = plt.figure(figsize=(15, 20))\n",
    "    ax5 = fig.add_subplot(221)\n",
    "    grafico = base[['VALOR_PRODUTOS']].boxplot(\n",
    "        figsize=(20, 5), fontsize=fontsize, ax=ax5)\n",
    "    plt.title('Valor dos produtos')\n",
    "\n",
    "    ax6 = fig.add_subplot(222)\n",
    "    grafico = base[['TAXA_ENTREGA']].boxplot(\n",
    "        figsize=(20, 5), fontsize=fontsize, ax=ax6)\n",
    "    plt.title('Taxa de entrega')\n",
    "\n",
    "    ax7 = fig.add_subplot(223)\n",
    "    grafico = base[['TOTAL_PEDIDO']].boxplot(\n",
    "        figsize=(20, 5), fontsize=fontsize, ax=ax7)\n",
    "    plt.title('Total de pedidos')\n",
    "\n",
    "\n",
    "boxplot_analise()"
   ]
  },
  {
   "cell_type": "code",
   "execution_count": 614,
   "metadata": {},
   "outputs": [
    {
     "data": {
      "text/html": [
       "<div>\n",
       "<style scoped>\n",
       "    .dataframe tbody tr th:only-of-type {\n",
       "        vertical-align: middle;\n",
       "    }\n",
       "\n",
       "    .dataframe tbody tr th {\n",
       "        vertical-align: top;\n",
       "    }\n",
       "\n",
       "    .dataframe thead th {\n",
       "        text-align: right;\n",
       "    }\n",
       "</style>\n",
       "<table border=\"1\" class=\"dataframe\">\n",
       "  <thead>\n",
       "    <tr style=\"text-align: right;\">\n",
       "      <th></th>\n",
       "      <th>Quantidade</th>\n",
       "    </tr>\n",
       "    <tr>\n",
       "      <th>FORMA_PAGAMENTO</th>\n",
       "      <th></th>\n",
       "    </tr>\n",
       "  </thead>\n",
       "  <tbody>\n",
       "    <tr>\n",
       "      <th>Dinheiro</th>\n",
       "      <td>1030</td>\n",
       "    </tr>\n",
       "    <tr>\n",
       "      <th>Cartão</th>\n",
       "      <td>404</td>\n",
       "    </tr>\n",
       "  </tbody>\n",
       "</table>\n",
       "</div>"
      ],
      "text/plain": [
       "                 Quantidade\n",
       "FORMA_PAGAMENTO            \n",
       "Dinheiro               1030\n",
       "Cartão                  404"
      ]
     },
     "execution_count": 614,
     "metadata": {},
     "output_type": "execute_result"
    }
   ],
   "source": [
    "# Formas de pagamentos e a respectiva quantidade,\n",
    "# dado que o status do pedido é Recusado.\n",
    "\n",
    "filt = base[(base['STATUS'] == \"Recusado\")]\n",
    "dff = pd.DataFrame(filt.groupby('FORMA_PAGAMENTO').size())\n",
    "dff.columns = ['Quantidade']\n",
    "dff.sort_values(by=['Quantidade'], ascending=False)"
   ]
  },
  {
   "cell_type": "code",
   "execution_count": 615,
   "metadata": {},
   "outputs": [
    {
     "data": {
      "text/html": [
       "<div>\n",
       "<style scoped>\n",
       "    .dataframe tbody tr th:only-of-type {\n",
       "        vertical-align: middle;\n",
       "    }\n",
       "\n",
       "    .dataframe tbody tr th {\n",
       "        vertical-align: top;\n",
       "    }\n",
       "\n",
       "    .dataframe thead th {\n",
       "        text-align: right;\n",
       "    }\n",
       "</style>\n",
       "<table border=\"1\" class=\"dataframe\">\n",
       "  <thead>\n",
       "    <tr style=\"text-align: right;\">\n",
       "      <th></th>\n",
       "      <th>Quantidade</th>\n",
       "    </tr>\n",
       "    <tr>\n",
       "      <th>TIPO_ESTABELECIMENTO</th>\n",
       "      <th></th>\n",
       "    </tr>\n",
       "  </thead>\n",
       "  <tbody>\n",
       "    <tr>\n",
       "      <th>Lanchonete</th>\n",
       "      <td>7065</td>\n",
       "    </tr>\n",
       "    <tr>\n",
       "      <th>Pizzaria</th>\n",
       "      <td>3733</td>\n",
       "    </tr>\n",
       "    <tr>\n",
       "      <th>Marmitex</th>\n",
       "      <td>3491</td>\n",
       "    </tr>\n",
       "    <tr>\n",
       "      <th>Comida Natural</th>\n",
       "      <td>2128</td>\n",
       "    </tr>\n",
       "    <tr>\n",
       "      <th>Restaurante</th>\n",
       "      <td>1975</td>\n",
       "    </tr>\n",
       "    <tr>\n",
       "      <th>Comida Japonesa</th>\n",
       "      <td>1152</td>\n",
       "    </tr>\n",
       "    <tr>\n",
       "      <th>Pizzaria/Esfiharia</th>\n",
       "      <td>1075</td>\n",
       "    </tr>\n",
       "    <tr>\n",
       "      <th>Restaurante/Tapiocaria</th>\n",
       "      <td>573</td>\n",
       "    </tr>\n",
       "    <tr>\n",
       "      <th>Hot-Dog</th>\n",
       "      <td>450</td>\n",
       "    </tr>\n",
       "    <tr>\n",
       "      <th>Sopas</th>\n",
       "      <td>413</td>\n",
       "    </tr>\n",
       "    <tr>\n",
       "      <th>Pizzaria/Lanchonete</th>\n",
       "      <td>359</td>\n",
       "    </tr>\n",
       "    <tr>\n",
       "      <th>Culinária Oriental</th>\n",
       "      <td>332</td>\n",
       "    </tr>\n",
       "    <tr>\n",
       "      <th>Doceria</th>\n",
       "      <td>274</td>\n",
       "    </tr>\n",
       "    <tr>\n",
       "      <th>Picoleteria</th>\n",
       "      <td>252</td>\n",
       "    </tr>\n",
       "    <tr>\n",
       "      <th>Espetinhos</th>\n",
       "      <td>213</td>\n",
       "    </tr>\n",
       "    <tr>\n",
       "      <th>Tapiocaria</th>\n",
       "      <td>115</td>\n",
       "    </tr>\n",
       "    <tr>\n",
       "      <th>Pães e Bolos</th>\n",
       "      <td>109</td>\n",
       "    </tr>\n",
       "    <tr>\n",
       "      <th>Pizzaria/Esfiharia/Pastelaria</th>\n",
       "      <td>104</td>\n",
       "    </tr>\n",
       "    <tr>\n",
       "      <th>Saladas</th>\n",
       "      <td>34</td>\n",
       "    </tr>\n",
       "    <tr>\n",
       "      <th>Comida Árabe</th>\n",
       "      <td>30</td>\n",
       "    </tr>\n",
       "    <tr>\n",
       "      <th>Acarajé</th>\n",
       "      <td>12</td>\n",
       "    </tr>\n",
       "  </tbody>\n",
       "</table>\n",
       "</div>"
      ],
      "text/plain": [
       "                               Quantidade\n",
       "TIPO_ESTABELECIMENTO                     \n",
       "Lanchonete                           7065\n",
       "Pizzaria                             3733\n",
       "Marmitex                             3491\n",
       "Comida Natural                       2128\n",
       "Restaurante                          1975\n",
       "Comida Japonesa                      1152\n",
       "Pizzaria/Esfiharia                   1075\n",
       "Restaurante/Tapiocaria                573\n",
       "Hot-Dog                               450\n",
       "Sopas                                 413\n",
       "Pizzaria/Lanchonete                   359\n",
       "Culinária Oriental                    332\n",
       "Doceria                               274\n",
       "Picoleteria                           252\n",
       "Espetinhos                            213\n",
       "Tapiocaria                            115\n",
       "Pães e Bolos                          109\n",
       "Pizzaria/Esfiharia/Pastelaria         104\n",
       "Saladas                                34\n",
       "Comida Árabe                           30\n",
       "Acarajé                                12"
      ]
     },
     "execution_count": 615,
     "metadata": {},
     "output_type": "execute_result"
    }
   ],
   "source": [
    "#Obter os tipos de estabelecimento e as suas respectivas quantidades\n",
    "# da cidade de Vitória da Conquista.\n",
    "\n",
    "filt = base[(base['CIDADE_USUARIO'] == \"Vitória da Conquista\")]\n",
    "dff = pd.DataFrame(filt.groupby('TIPO_ESTABELECIMENTO').size())\n",
    "dff.columns = ['Quantidade']\n",
    "dff.sort_values(by=['Quantidade'], ascending=False)"
   ]
  },
  {
   "cell_type": "markdown",
   "metadata": {},
   "source": [
    "- A tabela mostrou que referenciava dados sobre pedidos de alimentos realizados através de aplicativo para estabelecimentos, que atendiam por meio de delivery em que a coleta foi realizada no segundo semestre de 2016 de cidades brasileiras com enfoque no estado da Bahia, observando a discrepância, já que tivemos apenas um pedido em Sorocaba interior de São Paulo"
   ]
  },
  {
   "cell_type": "code",
   "execution_count": 616,
   "metadata": {
    "scrolled": false
   },
   "outputs": [
    {
     "data": {
      "text/html": [
       "<div>\n",
       "<style scoped>\n",
       "    .dataframe tbody tr th:only-of-type {\n",
       "        vertical-align: middle;\n",
       "    }\n",
       "\n",
       "    .dataframe tbody tr th {\n",
       "        vertical-align: top;\n",
       "    }\n",
       "\n",
       "    .dataframe thead th {\n",
       "        text-align: right;\n",
       "    }\n",
       "</style>\n",
       "<table border=\"1\" class=\"dataframe\">\n",
       "  <thead>\n",
       "    <tr style=\"text-align: right;\">\n",
       "      <th></th>\n",
       "      <th>Quantidade</th>\n",
       "    </tr>\n",
       "    <tr>\n",
       "      <th>CIDADE_USUARIO</th>\n",
       "      <th></th>\n",
       "    </tr>\n",
       "  </thead>\n",
       "  <tbody>\n",
       "    <tr>\n",
       "      <th>Vitória da Conquista</th>\n",
       "      <td>23889</td>\n",
       "    </tr>\n",
       "    <tr>\n",
       "      <th>Ibicaraí</th>\n",
       "      <td>103</td>\n",
       "    </tr>\n",
       "    <tr>\n",
       "      <th>Brumado</th>\n",
       "      <td>71</td>\n",
       "    </tr>\n",
       "    <tr>\n",
       "      <th>Mortugaba</th>\n",
       "      <td>35</td>\n",
       "    </tr>\n",
       "    <tr>\n",
       "      <th>Sorocaba</th>\n",
       "      <td>1</td>\n",
       "    </tr>\n",
       "  </tbody>\n",
       "</table>\n",
       "</div>"
      ],
      "text/plain": [
       "                      Quantidade\n",
       "CIDADE_USUARIO                  \n",
       "Vitória da Conquista       23889\n",
       "Ibicaraí                     103\n",
       "Brumado                       71\n",
       "Mortugaba                     35\n",
       "Sorocaba                       1"
      ]
     },
     "execution_count": 616,
     "metadata": {},
     "output_type": "execute_result"
    }
   ],
   "source": [
    "#Obter as cidades do usuário e suas respectivas quantidades\n",
    "# na base de dados\n",
    "\n",
    "df = pd.DataFrame(base.groupby('CIDADE_USUARIO').size())\n",
    "df.columns = ['Quantidade']\n",
    "df\n",
    "df.sort_values(by=['Quantidade'], ascending=False)"
   ]
  },
  {
   "cell_type": "markdown",
   "metadata": {},
   "source": [
    "- Verificamos que pela quantidade de pedidos realizados sobre o estabelecimento, lanchonete recebeu a maior parte das vendas mesmo sendo bastante distribuído os dados referentes aos outros estabelecimentos.\n",
    "\n"
   ]
  },
  {
   "cell_type": "code",
   "execution_count": 617,
   "metadata": {},
   "outputs": [
    {
     "data": {
      "text/html": [
       "<div>\n",
       "<style scoped>\n",
       "    .dataframe tbody tr th:only-of-type {\n",
       "        vertical-align: middle;\n",
       "    }\n",
       "\n",
       "    .dataframe tbody tr th {\n",
       "        vertical-align: top;\n",
       "    }\n",
       "\n",
       "    .dataframe thead th {\n",
       "        text-align: right;\n",
       "    }\n",
       "</style>\n",
       "<table border=\"1\" class=\"dataframe\">\n",
       "  <thead>\n",
       "    <tr style=\"text-align: right;\">\n",
       "      <th></th>\n",
       "      <th>Quantidade</th>\n",
       "    </tr>\n",
       "    <tr>\n",
       "      <th>TIPO_ESTABELECIMENTO</th>\n",
       "      <th></th>\n",
       "    </tr>\n",
       "  </thead>\n",
       "  <tbody>\n",
       "    <tr>\n",
       "      <th>Lanchonete</th>\n",
       "      <td>7187</td>\n",
       "    </tr>\n",
       "    <tr>\n",
       "      <th>Pizzaria</th>\n",
       "      <td>3763</td>\n",
       "    </tr>\n",
       "    <tr>\n",
       "      <th>Marmitex</th>\n",
       "      <td>3597</td>\n",
       "    </tr>\n",
       "    <tr>\n",
       "      <th>Comida Natural</th>\n",
       "      <td>2135</td>\n",
       "    </tr>\n",
       "    <tr>\n",
       "      <th>Restaurante</th>\n",
       "      <td>2006</td>\n",
       "    </tr>\n",
       "    <tr>\n",
       "      <th>Comida Japonesa</th>\n",
       "      <td>1167</td>\n",
       "    </tr>\n",
       "    <tr>\n",
       "      <th>Pizzaria/Esfiharia</th>\n",
       "      <td>1103</td>\n",
       "    </tr>\n",
       "    <tr>\n",
       "      <th>Restaurante/Tapiocaria</th>\n",
       "      <td>584</td>\n",
       "    </tr>\n",
       "    <tr>\n",
       "      <th>Pizzaria/Lanchonete</th>\n",
       "      <td>455</td>\n",
       "    </tr>\n",
       "    <tr>\n",
       "      <th>Hot-Dog</th>\n",
       "      <td>451</td>\n",
       "    </tr>\n",
       "    <tr>\n",
       "      <th>Sopas</th>\n",
       "      <td>419</td>\n",
       "    </tr>\n",
       "    <tr>\n",
       "      <th>Culinária Oriental</th>\n",
       "      <td>334</td>\n",
       "    </tr>\n",
       "    <tr>\n",
       "      <th>Doceria</th>\n",
       "      <td>274</td>\n",
       "    </tr>\n",
       "    <tr>\n",
       "      <th>Picoleteria</th>\n",
       "      <td>252</td>\n",
       "    </tr>\n",
       "    <tr>\n",
       "      <th>Espetinhos</th>\n",
       "      <td>213</td>\n",
       "    </tr>\n",
       "    <tr>\n",
       "      <th>Tapiocaria</th>\n",
       "      <td>129</td>\n",
       "    </tr>\n",
       "    <tr>\n",
       "      <th>Pães e Bolos</th>\n",
       "      <td>109</td>\n",
       "    </tr>\n",
       "    <tr>\n",
       "      <th>Pizzaria/Esfiharia/Pastelaria</th>\n",
       "      <td>105</td>\n",
       "    </tr>\n",
       "    <tr>\n",
       "      <th>Saladas</th>\n",
       "      <td>34</td>\n",
       "    </tr>\n",
       "    <tr>\n",
       "      <th>Comida Árabe</th>\n",
       "      <td>30</td>\n",
       "    </tr>\n",
       "    <tr>\n",
       "      <th>Acarajé</th>\n",
       "      <td>12</td>\n",
       "    </tr>\n",
       "  </tbody>\n",
       "</table>\n",
       "</div>"
      ],
      "text/plain": [
       "                               Quantidade\n",
       "TIPO_ESTABELECIMENTO                     \n",
       "Lanchonete                           7187\n",
       "Pizzaria                             3763\n",
       "Marmitex                             3597\n",
       "Comida Natural                       2135\n",
       "Restaurante                          2006\n",
       "Comida Japonesa                      1167\n",
       "Pizzaria/Esfiharia                   1103\n",
       "Restaurante/Tapiocaria                584\n",
       "Pizzaria/Lanchonete                   455\n",
       "Hot-Dog                               451\n",
       "Sopas                                 419\n",
       "Culinária Oriental                    334\n",
       "Doceria                               274\n",
       "Picoleteria                           252\n",
       "Espetinhos                            213\n",
       "Tapiocaria                            129\n",
       "Pães e Bolos                          109\n",
       "Pizzaria/Esfiharia/Pastelaria         105\n",
       "Saladas                                34\n",
       "Comida Árabe                           30\n",
       "Acarajé                                12"
      ]
     },
     "execution_count": 617,
     "metadata": {},
     "output_type": "execute_result"
    }
   ],
   "source": [
    "df = pd.DataFrame(base.groupby('TIPO_ESTABELECIMENTO').size())\n",
    "df.columns = ['Quantidade']\n",
    "df\n",
    "df.sort_values(by=['Quantidade'], ascending=False)"
   ]
  },
  {
   "cell_type": "markdown",
   "metadata": {},
   "source": [
    "- Foi verificado também pelo gráfico que a maioria dos pedidos entregues foram pagos pela forma de pagamento em dinheiro. Mesmo assim, vimos que poucos pedidos foram recusados."
   ]
  },
  {
   "cell_type": "code",
   "execution_count": 618,
   "metadata": {},
   "outputs": [
    {
     "data": {
      "image/png": "[encoded data removed]",
      "text/plain": [
       "<matplotlib.figure.Figure at 0x7f6c80edd6d8>"
      ]
     },
     "metadata": {},
     "output_type": "display_data"
    }
   ],
   "source": [
    "plt.rcParams.update({'text.color': 'black'})\n",
    "fontsize = 14\n",
    "font_size = 14\n",
    "d1 = pd.DataFrame(base.groupby('FORMA_PAGAMENTO').size())\n",
    "d1.columns = ['Quantidade']\n",
    "fig = plt.figure(figsize=(15, 16))\n",
    "\n",
    "colors = ['yellowgreen', 'gold']\n",
    "# plot chart\n",
    "ax1 = fig.add_subplot(221)\n",
    "grafico = d1.plot(\n",
    "    kind='pie',\n",
    "    autopct='%1.1f%%',\n",
    "    startangle=90,\n",
    "    shadow=False,\n",
    "    figsize=(5, 5),\n",
    "    fontsize=fontsize,\n",
    "    colors=colors,\n",
    "    legend=True,\n",
    "    ax=ax1,\n",
    "    subplots=True)\n",
    "plt.title('Formas de pagamento')\n",
    "plt.ylabel('')\n",
    "plt.legend(loc=2, prop={'size': fontsize})\n",
    "\n",
    "d2 = pd.DataFrame(base.groupby('STATUS').size())\n",
    "d2.columns = ['Quantidade']\n",
    "\n",
    "ax2 = fig.add_subplot(222)\n",
    "grafico = d2.plot(\n",
    "    kind='pie',\n",
    "    autopct='%1.1f%%',\n",
    "    startangle=90,\n",
    "    shadow=False,\n",
    "    figsize=(5, 5),\n",
    "    fontsize=fontsize,\n",
    "    colors=colors,\n",
    "    legend=True,\n",
    "    ax=ax2,\n",
    "    subplots=True)\n",
    "plt.title('Status do pedido')\n",
    "plt.ylabel('')\n",
    "plt.legend(loc=2, prop={'size': fontsize})\n",
    "\n",
    "#ax3 = fig.add_subplot(223)\n",
    "\n",
    "#ax3.axis('off')\n",
    "mpl_table = table(ax2, d2, loc='bottom', rowLoc='left', colLoc='center')\n",
    "mpl_table.auto_set_font_size(False)\n",
    "mpl_table.set_fontsize(font_size)\n",
    "mpl_table.scale(0.4, 2.8)\n",
    "\n",
    "#ax4 = fig.add_subplot(224)\n",
    "\n",
    "#ax4.axis('off')\n",
    "mpl_table = table(ax1, d1, loc='bottom', rowLoc='left', colLoc='center')\n",
    "mpl_table.auto_set_font_size(False)\n",
    "mpl_table.set_fontsize(font_size)\n",
    "mpl_table.scale(0.4, 2.8)"
   ]
  },
  {
   "cell_type": "markdown",
   "metadata": {},
   "source": [
    "- No gráficos de histograma, é possível através de atributos numéricos observar a distribuição na base de dados \n"
   ]
  },
  {
   "cell_type": "code",
   "execution_count": 619,
   "metadata": {
    "scrolled": false
   },
   "outputs": [
    {
     "data": {
      "image/png": "[encoded data removed]",
      "text/plain": [
       "<matplotlib.figure.Figure at 0x7f6c80aeaf28>"
      ]
     },
     "metadata": {},
     "output_type": "display_data"
    }
   ],
   "source": [
    "#Histograma dos atributos numéricos para\n",
    "#observar a distribuição na base de dados.\n",
    "def histograma_analise():\n",
    "    fontsize = 15\n",
    "    font_size = 15\n",
    "\n",
    "    fig = plt.figure(figsize=(12, 10))\n",
    "    ax5 = fig.add_subplot(221)\n",
    "    base.hist(column='VALOR_PRODUTOS', bins=100, figsize=(20, 5), ax=ax5)\n",
    "    plt.title('Valor dos produtos')\n",
    "\n",
    "    ax6 = fig.add_subplot(222)\n",
    "    base.hist(column='TAXA_ENTREGA', bins=100, figsize=(20, 5), ax=ax6)\n",
    "    plt.title('Taxa de entrega')\n",
    "\n",
    "    ax7 = fig.add_subplot(223)\n",
    "    base.hist(column='TOTAL_PEDIDO', bins=100, figsize=(20, 5), ax=ax7)\n",
    "    plt.title('Total de pedidos')\n",
    "\n",
    "    dff = pd.DataFrame(base.groupby('ID_USUARIO').size())\n",
    "    dff.columns = ['Quantidade']\n",
    "    dff.sort_values(by=['Quantidade'], ascending=False)\n",
    "    ax8 = fig.add_subplot(224)\n",
    "\n",
    "    dff.hist(column='Quantidade', bins=100, figsize=(20, 5), ax=ax8)\n",
    "    plt.title('Quantidade de pedidos por usuário')\n",
    "\n",
    "\n",
    "histograma_analise()"
   ]
  },
  {
   "cell_type": "markdown",
   "metadata": {},
   "source": [
    "## Pré-processamento\n",
    "\n",
    "Para executar a etapa de pré-processamento, além da etapa de análise dos dados por meio estatístico, observamos os dados para verificar a existência dos seguintes itens:\n",
    "\n",
    "1. Instâncias duplicadas;\n",
    "1. Valores ausentes;\n",
    "1. Valores inconsistentes;\n",
    "1. Outliers.\n",
    "\n",
    "Após essa verificação, executamos as etapas de pré-processamento.\n",
    "\n",
    "### 1. Instâncias duplicadas\n",
    "\n",
    "- Verificamos a quantidade de instâncias e atributos que a base possui:"
   ]
  },
  {
   "cell_type": "code",
   "execution_count": 620,
   "metadata": {},
   "outputs": [
    {
     "data": {
      "text/plain": [
       "(24359, 18)"
      ]
     },
     "execution_count": 620,
     "metadata": {},
     "output_type": "execute_result"
    }
   ],
   "source": [
    "#Verificar quantas instâncias (linhas) e quantos atributos (colunas) tem a base\n",
    "base.shape"
   ]
  },
  {
   "cell_type": "markdown",
   "metadata": {},
   "source": [
    "- Verificamos quantas instâncias duplicadas existem na base:"
   ]
  },
  {
   "cell_type": "code",
   "execution_count": 621,
   "metadata": {},
   "outputs": [
    {
     "data": {
      "text/plain": [
       "7"
      ]
     },
     "execution_count": 621,
     "metadata": {},
     "output_type": "execute_result"
    }
   ],
   "source": [
    "#Verificar quantas instâncias (linhas) duplicadas\n",
    "base.duplicated().sum()"
   ]
  },
  {
   "cell_type": "markdown",
   "metadata": {},
   "source": [
    "- Verificamos quais instâncias são duplicadas:"
   ]
  },
  {
   "cell_type": "code",
   "execution_count": 622,
   "metadata": {},
   "outputs": [
    {
     "data": {
      "text/html": [
       "<div>\n",
       "<style scoped>\n",
       "    .dataframe tbody tr th:only-of-type {\n",
       "        vertical-align: middle;\n",
       "    }\n",
       "\n",
       "    .dataframe tbody tr th {\n",
       "        vertical-align: top;\n",
       "    }\n",
       "\n",
       "    .dataframe thead th {\n",
       "        text-align: right;\n",
       "    }\n",
       "</style>\n",
       "<table border=\"1\" class=\"dataframe\">\n",
       "  <thead>\n",
       "    <tr style=\"text-align: right;\">\n",
       "      <th></th>\n",
       "      <th>DATA_PEDIDO</th>\n",
       "      <th>HORA_PEDIDO</th>\n",
       "      <th>DIA_PEDIDO</th>\n",
       "      <th>VALOR_PRODUTOS</th>\n",
       "      <th>TAXA_ENTREGA</th>\n",
       "      <th>TOTAL_PEDIDO</th>\n",
       "      <th>FORMA_PAGAMENTO</th>\n",
       "      <th>AVALIACAO</th>\n",
       "      <th>STATUS</th>\n",
       "      <th>ID_ESTABELECIMENTO</th>\n",
       "      <th>TIPO_ESTABELECIMENTO</th>\n",
       "      <th>ID_USUARIO</th>\n",
       "      <th>DDD_USUARIO</th>\n",
       "      <th>DATA_CADASTRO_USUARIO</th>\n",
       "      <th>PRIMEIRO_PEDIDO</th>\n",
       "      <th>BAIRRO_USUARIO</th>\n",
       "      <th>CIDADE_USUARIO</th>\n",
       "      <th>SO_DISPOSITIVO</th>\n",
       "    </tr>\n",
       "  </thead>\n",
       "  <tbody>\n",
       "    <tr>\n",
       "      <th>1679</th>\n",
       "      <td>2016-09-17</td>\n",
       "      <td>23:25</td>\n",
       "      <td>Thursday</td>\n",
       "      <td>10.0</td>\n",
       "      <td>2.0</td>\n",
       "      <td>12.0</td>\n",
       "      <td>Dinheiro</td>\n",
       "      <td>NaN</td>\n",
       "      <td>Entregue</td>\n",
       "      <td>168</td>\n",
       "      <td>Lanchonete</td>\n",
       "      <td>52376</td>\n",
       "      <td>77</td>\n",
       "      <td>2016-07-18</td>\n",
       "      <td>Não</td>\n",
       "      <td>Sumaré</td>\n",
       "      <td>Vitória da Conquista</td>\n",
       "      <td>Android</td>\n",
       "    </tr>\n",
       "    <tr>\n",
       "      <th>1680</th>\n",
       "      <td>2016-09-17</td>\n",
       "      <td>23:25</td>\n",
       "      <td>Thursday</td>\n",
       "      <td>10.0</td>\n",
       "      <td>2.0</td>\n",
       "      <td>12.0</td>\n",
       "      <td>Dinheiro</td>\n",
       "      <td>NaN</td>\n",
       "      <td>Entregue</td>\n",
       "      <td>168</td>\n",
       "      <td>Lanchonete</td>\n",
       "      <td>52376</td>\n",
       "      <td>77</td>\n",
       "      <td>2016-07-18</td>\n",
       "      <td>Não</td>\n",
       "      <td>Sumaré</td>\n",
       "      <td>Vitória da Conquista</td>\n",
       "      <td>Android</td>\n",
       "    </tr>\n",
       "    <tr>\n",
       "      <th>11793</th>\n",
       "      <td>2016-09-24</td>\n",
       "      <td>21:27</td>\n",
       "      <td>Thursday</td>\n",
       "      <td>0.0</td>\n",
       "      <td>3.0</td>\n",
       "      <td>0.0</td>\n",
       "      <td>Dinheiro</td>\n",
       "      <td>NaN</td>\n",
       "      <td>Recusado</td>\n",
       "      <td>936</td>\n",
       "      <td>Lanchonete</td>\n",
       "      <td>7592</td>\n",
       "      <td>77</td>\n",
       "      <td>2015-08-19</td>\n",
       "      <td>Não</td>\n",
       "      <td>Candeias</td>\n",
       "      <td>Vitória da Conquista</td>\n",
       "      <td>PC</td>\n",
       "    </tr>\n",
       "    <tr>\n",
       "      <th>11794</th>\n",
       "      <td>2016-09-24</td>\n",
       "      <td>21:27</td>\n",
       "      <td>Thursday</td>\n",
       "      <td>0.0</td>\n",
       "      <td>3.0</td>\n",
       "      <td>0.0</td>\n",
       "      <td>Dinheiro</td>\n",
       "      <td>NaN</td>\n",
       "      <td>Recusado</td>\n",
       "      <td>936</td>\n",
       "      <td>Lanchonete</td>\n",
       "      <td>7592</td>\n",
       "      <td>77</td>\n",
       "      <td>2015-08-19</td>\n",
       "      <td>Não</td>\n",
       "      <td>Candeias</td>\n",
       "      <td>Vitória da Conquista</td>\n",
       "      <td>PC</td>\n",
       "    </tr>\n",
       "    <tr>\n",
       "      <th>11795</th>\n",
       "      <td>2016-09-24</td>\n",
       "      <td>21:27</td>\n",
       "      <td>Thursday</td>\n",
       "      <td>0.0</td>\n",
       "      <td>3.0</td>\n",
       "      <td>0.0</td>\n",
       "      <td>Dinheiro</td>\n",
       "      <td>NaN</td>\n",
       "      <td>Recusado</td>\n",
       "      <td>936</td>\n",
       "      <td>Lanchonete</td>\n",
       "      <td>7592</td>\n",
       "      <td>77</td>\n",
       "      <td>2015-08-19</td>\n",
       "      <td>Não</td>\n",
       "      <td>Candeias</td>\n",
       "      <td>Vitória da Conquista</td>\n",
       "      <td>PC</td>\n",
       "    </tr>\n",
       "    <tr>\n",
       "      <th>11796</th>\n",
       "      <td>2016-09-24</td>\n",
       "      <td>21:27</td>\n",
       "      <td>Thursday</td>\n",
       "      <td>0.0</td>\n",
       "      <td>3.0</td>\n",
       "      <td>0.0</td>\n",
       "      <td>Dinheiro</td>\n",
       "      <td>NaN</td>\n",
       "      <td>Recusado</td>\n",
       "      <td>936</td>\n",
       "      <td>Lanchonete</td>\n",
       "      <td>7592</td>\n",
       "      <td>77</td>\n",
       "      <td>2015-08-19</td>\n",
       "      <td>Não</td>\n",
       "      <td>Candeias</td>\n",
       "      <td>Vitória da Conquista</td>\n",
       "      <td>PC</td>\n",
       "    </tr>\n",
       "    <tr>\n",
       "      <th>15616</th>\n",
       "      <td>2016-09-19</td>\n",
       "      <td>10:50</td>\n",
       "      <td>Saturday</td>\n",
       "      <td>12.0</td>\n",
       "      <td>2.0</td>\n",
       "      <td>14.0</td>\n",
       "      <td>Dinheiro</td>\n",
       "      <td>NaN</td>\n",
       "      <td>Entregue</td>\n",
       "      <td>1400</td>\n",
       "      <td>Marmitex</td>\n",
       "      <td>38936</td>\n",
       "      <td>73</td>\n",
       "      <td>2016-04-15</td>\n",
       "      <td>Não</td>\n",
       "      <td>Candeias</td>\n",
       "      <td>Vitória da Conquista</td>\n",
       "      <td>Android</td>\n",
       "    </tr>\n",
       "    <tr>\n",
       "      <th>15617</th>\n",
       "      <td>2016-09-19</td>\n",
       "      <td>10:50</td>\n",
       "      <td>Saturday</td>\n",
       "      <td>12.0</td>\n",
       "      <td>2.0</td>\n",
       "      <td>14.0</td>\n",
       "      <td>Dinheiro</td>\n",
       "      <td>NaN</td>\n",
       "      <td>Entregue</td>\n",
       "      <td>1400</td>\n",
       "      <td>Marmitex</td>\n",
       "      <td>38936</td>\n",
       "      <td>73</td>\n",
       "      <td>2016-04-15</td>\n",
       "      <td>Não</td>\n",
       "      <td>Candeias</td>\n",
       "      <td>Vitória da Conquista</td>\n",
       "      <td>Android</td>\n",
       "    </tr>\n",
       "    <tr>\n",
       "      <th>23685</th>\n",
       "      <td>2016-09-27</td>\n",
       "      <td>16:36</td>\n",
       "      <td>Sunday</td>\n",
       "      <td>16.0</td>\n",
       "      <td>4.0</td>\n",
       "      <td>20.0</td>\n",
       "      <td>Cartão</td>\n",
       "      <td>NaN</td>\n",
       "      <td>Recusado</td>\n",
       "      <td>640</td>\n",
       "      <td>Comida Natural</td>\n",
       "      <td>7000</td>\n",
       "      <td>77</td>\n",
       "      <td>2015-08-09</td>\n",
       "      <td>Não</td>\n",
       "      <td>Universidade</td>\n",
       "      <td>Vitória da Conquista</td>\n",
       "      <td>PC</td>\n",
       "    </tr>\n",
       "    <tr>\n",
       "      <th>23686</th>\n",
       "      <td>2016-09-27</td>\n",
       "      <td>16:36</td>\n",
       "      <td>Sunday</td>\n",
       "      <td>16.0</td>\n",
       "      <td>4.0</td>\n",
       "      <td>20.0</td>\n",
       "      <td>Cartão</td>\n",
       "      <td>NaN</td>\n",
       "      <td>Recusado</td>\n",
       "      <td>640</td>\n",
       "      <td>Comida Natural</td>\n",
       "      <td>7000</td>\n",
       "      <td>77</td>\n",
       "      <td>2015-08-09</td>\n",
       "      <td>Não</td>\n",
       "      <td>Universidade</td>\n",
       "      <td>Vitória da Conquista</td>\n",
       "      <td>PC</td>\n",
       "    </tr>\n",
       "    <tr>\n",
       "      <th>23688</th>\n",
       "      <td>2016-09-27</td>\n",
       "      <td>16:36</td>\n",
       "      <td>Sunday</td>\n",
       "      <td>16.0</td>\n",
       "      <td>4.0</td>\n",
       "      <td>20.0</td>\n",
       "      <td>Cartão</td>\n",
       "      <td>NaN</td>\n",
       "      <td>Recusado</td>\n",
       "      <td>640</td>\n",
       "      <td>Comida Natural</td>\n",
       "      <td>7000</td>\n",
       "      <td>77</td>\n",
       "      <td>2015-08-09</td>\n",
       "      <td>Não</td>\n",
       "      <td>Universidade</td>\n",
       "      <td>Vitória da Conquista</td>\n",
       "      <td>PC</td>\n",
       "    </tr>\n",
       "  </tbody>\n",
       "</table>\n",
       "</div>"
      ],
      "text/plain": [
       "      DATA_PEDIDO HORA_PEDIDO DIA_PEDIDO  VALOR_PRODUTOS  TAXA_ENTREGA  \\\n",
       "1679   2016-09-17       23:25   Thursday            10.0           2.0   \n",
       "1680   2016-09-17       23:25   Thursday            10.0           2.0   \n",
       "11793  2016-09-24       21:27   Thursday             0.0           3.0   \n",
       "11794  2016-09-24       21:27   Thursday             0.0           3.0   \n",
       "11795  2016-09-24       21:27   Thursday             0.0           3.0   \n",
       "11796  2016-09-24       21:27   Thursday             0.0           3.0   \n",
       "15616  2016-09-19       10:50   Saturday            12.0           2.0   \n",
       "15617  2016-09-19       10:50   Saturday            12.0           2.0   \n",
       "23685  2016-09-27       16:36     Sunday            16.0           4.0   \n",
       "23686  2016-09-27       16:36     Sunday            16.0           4.0   \n",
       "23688  2016-09-27       16:36     Sunday            16.0           4.0   \n",
       "\n",
       "       TOTAL_PEDIDO FORMA_PAGAMENTO  AVALIACAO    STATUS  ID_ESTABELECIMENTO  \\\n",
       "1679           12.0        Dinheiro        NaN  Entregue                 168   \n",
       "1680           12.0        Dinheiro        NaN  Entregue                 168   \n",
       "11793           0.0        Dinheiro        NaN  Recusado                 936   \n",
       "11794           0.0        Dinheiro        NaN  Recusado                 936   \n",
       "11795           0.0        Dinheiro        NaN  Recusado                 936   \n",
       "11796           0.0        Dinheiro        NaN  Recusado                 936   \n",
       "15616          14.0        Dinheiro        NaN  Entregue                1400   \n",
       "15617          14.0        Dinheiro        NaN  Entregue                1400   \n",
       "23685          20.0          Cartão        NaN  Recusado                 640   \n",
       "23686          20.0          Cartão        NaN  Recusado                 640   \n",
       "23688          20.0          Cartão        NaN  Recusado                 640   \n",
       "\n",
       "      TIPO_ESTABELECIMENTO  ID_USUARIO DDD_USUARIO DATA_CADASTRO_USUARIO  \\\n",
       "1679            Lanchonete       52376          77            2016-07-18   \n",
       "1680            Lanchonete       52376          77            2016-07-18   \n",
       "11793           Lanchonete        7592          77            2015-08-19   \n",
       "11794           Lanchonete        7592          77            2015-08-19   \n",
       "11795           Lanchonete        7592          77            2015-08-19   \n",
       "11796           Lanchonete        7592          77            2015-08-19   \n",
       "15616             Marmitex       38936          73            2016-04-15   \n",
       "15617             Marmitex       38936          73            2016-04-15   \n",
       "23685       Comida Natural        7000          77            2015-08-09   \n",
       "23686       Comida Natural        7000          77            2015-08-09   \n",
       "23688       Comida Natural        7000          77            2015-08-09   \n",
       "\n",
       "      PRIMEIRO_PEDIDO BAIRRO_USUARIO        CIDADE_USUARIO SO_DISPOSITIVO  \n",
       "1679              Não         Sumaré  Vitória da Conquista        Android  \n",
       "1680              Não         Sumaré  Vitória da Conquista        Android  \n",
       "11793             Não       Candeias  Vitória da Conquista             PC  \n",
       "11794             Não       Candeias  Vitória da Conquista             PC  \n",
       "11795             Não       Candeias  Vitória da Conquista             PC  \n",
       "11796             Não       Candeias  Vitória da Conquista             PC  \n",
       "15616             Não       Candeias  Vitória da Conquista        Android  \n",
       "15617             Não       Candeias  Vitória da Conquista        Android  \n",
       "23685             Não   Universidade  Vitória da Conquista             PC  \n",
       "23686             Não   Universidade  Vitória da Conquista             PC  \n",
       "23688             Não   Universidade  Vitória da Conquista             PC  "
      ]
     },
     "execution_count": 622,
     "metadata": {},
     "output_type": "execute_result"
    }
   ],
   "source": [
    "#Verificar quais são as instâncias duplicadas\n",
    "base.loc[base.duplicated(keep = False), :]"
   ]
  },
  {
   "cell_type": "markdown",
   "metadata": {},
   "source": [
    "- Por se tratar de poucas instâncias duplicadas, foi decidido remover as mesmas:"
   ]
  },
  {
   "cell_type": "code",
   "execution_count": 623,
   "metadata": {},
   "outputs": [],
   "source": [
    "novaBase = base.drop_duplicates(keep=\"first\")"
   ]
  },
  {
   "cell_type": "markdown",
   "metadata": {},
   "source": [
    "- Quantidade de instâncias após remoção:"
   ]
  },
  {
   "cell_type": "code",
   "execution_count": 624,
   "metadata": {},
   "outputs": [
    {
     "data": {
      "text/plain": [
       "(24352, 18)"
      ]
     },
     "execution_count": 624,
     "metadata": {},
     "output_type": "execute_result"
    }
   ],
   "source": [
    "novaBase.shape"
   ]
  },
  {
   "cell_type": "markdown",
   "metadata": {},
   "source": [
    "### 2. Valores ausentes\n",
    "- Verificamos quantos valores ausentes e de quais atributos são:"
   ]
  },
  {
   "cell_type": "code",
   "execution_count": 625,
   "metadata": {},
   "outputs": [
    {
     "data": {
      "image/png": "[encoded data removed]",
      "text/plain": [
       "<matplotlib.figure.Figure at 0x7f6c808df908>"
      ]
     },
     "metadata": {},
     "output_type": "display_data"
    }
   ],
   "source": [
    "#Gráfico que exibe a quantidade valores ausentes\n",
    "#para cada atributo da base\n",
    "\n",
    "fontsize = 15\n",
    "font_size = 15\n",
    "df = pd.DataFrame(novaBase.isnull().sum())\n",
    "\n",
    "df.columns = ['Quantidade']\n",
    "ax8 = plt.subplot2grid((2, 2), (0, 0), colspan=2)\n",
    "grafico = df.plot.barh(\n",
    "    figsize=(10, 16),\n",
    "    fontsize=fontsize,\n",
    "    ax=ax8,\n",
    "    facecolor='blue',\n",
    "    edgecolor='white',\n",
    "    legend=False)\n",
    "plt.title('Valores ausentes')\n",
    "\n",
    "df = df[(df['Quantidade'] > 0)]\n",
    "df\n",
    "mpl_table = table(ax8, df, loc='best', rowLoc='left', colLoc='center')\n",
    "mpl_table.auto_set_font_size(False)\n",
    "mpl_table.set_fontsize(font_size)\n",
    "mpl_table.scale(0.2, 2.8)"
   ]
  },
  {
   "cell_type": "markdown",
   "metadata": {},
   "source": [
    "- Verificamos se as 260 instâncias de valor ausente para o atributo **CIDADE_USUARIO** são as mesmas para o **BAIRRO_USUARIO**, e vice-versa:"
   ]
  },
  {
   "cell_type": "code",
   "execution_count": 626,
   "metadata": {},
   "outputs": [
    {
     "data": {
      "text/plain": [
       "(260, 18)"
      ]
     },
     "execution_count": 626,
     "metadata": {},
     "output_type": "execute_result"
    }
   ],
   "source": [
    "#(linha, coluna)\n",
    "novaBase[novaBase['CIDADE_USUARIO'].isnull()\n",
    "         & novaBase['BAIRRO_USUARIO'].isnull()].shape"
   ]
  },
  {
   "cell_type": "markdown",
   "metadata": {},
   "source": [
    "- Após observar a quantidade de valores ausentes e confirmar que o atributo **CIDADE_USUARIO** e **BAIRRO_USUARIO** estão correlacionados, foi decidido remover as instâncias que não contém valor para o atributo **CIDADE_USUARIO** e **BAIRRO_USUARIO**, por causa da sua baixa quantidade em relação a de instâncias da base:"
   ]
  },
  {
   "cell_type": "code",
   "execution_count": 627,
   "metadata": {},
   "outputs": [],
   "source": [
    "novaBase = novaBase.dropna(\n",
    "    subset=['CIDADE_USUARIO', 'BAIRRO_USUARIO'], how='all')"
   ]
  },
  {
   "cell_type": "markdown",
   "metadata": {},
   "source": [
    "- Após remover as 260 instâncias, referentes aos valores ausentes **CIDADE_USUARIO** e **BAIRRO_USUARIO**, a base passou a ter 24092 linhas:"
   ]
  },
  {
   "cell_type": "code",
   "execution_count": 628,
   "metadata": {},
   "outputs": [
    {
     "data": {
      "text/plain": [
       "(24092, 18)"
      ]
     },
     "execution_count": 628,
     "metadata": {},
     "output_type": "execute_result"
    }
   ],
   "source": [
    "novaBase.shape"
   ]
  },
  {
   "cell_type": "markdown",
   "metadata": {},
   "source": [
    "- Antes de decidir o que fazer com o valores ausentes do atributo **AVALIACAO**, decidimos observar quais ocorrências para o mesmo e a quantidade:"
   ]
  },
  {
   "cell_type": "code",
   "execution_count": 629,
   "metadata": {},
   "outputs": [
    {
     "data": {
      "text/html": [
       "<div>\n",
       "<style scoped>\n",
       "    .dataframe tbody tr th:only-of-type {\n",
       "        vertical-align: middle;\n",
       "    }\n",
       "\n",
       "    .dataframe tbody tr th {\n",
       "        vertical-align: top;\n",
       "    }\n",
       "\n",
       "    .dataframe thead th {\n",
       "        text-align: right;\n",
       "    }\n",
       "</style>\n",
       "<table border=\"1\" class=\"dataframe\">\n",
       "  <thead>\n",
       "    <tr style=\"text-align: right;\">\n",
       "      <th></th>\n",
       "      <th>Quantidade</th>\n",
       "      <th>%</th>\n",
       "    </tr>\n",
       "  </thead>\n",
       "  <tbody>\n",
       "    <tr>\n",
       "      <th>NaN</th>\n",
       "      <td>20503</td>\n",
       "      <td>0.851029</td>\n",
       "    </tr>\n",
       "    <tr>\n",
       "      <th>5.0</th>\n",
       "      <td>2037</td>\n",
       "      <td>0.084551</td>\n",
       "    </tr>\n",
       "    <tr>\n",
       "      <th>4.0</th>\n",
       "      <td>580</td>\n",
       "      <td>0.024074</td>\n",
       "    </tr>\n",
       "    <tr>\n",
       "      <th>1.0</th>\n",
       "      <td>531</td>\n",
       "      <td>0.022041</td>\n",
       "    </tr>\n",
       "    <tr>\n",
       "      <th>3.0</th>\n",
       "      <td>290</td>\n",
       "      <td>0.012037</td>\n",
       "    </tr>\n",
       "    <tr>\n",
       "      <th>2.0</th>\n",
       "      <td>151</td>\n",
       "      <td>0.006268</td>\n",
       "    </tr>\n",
       "  </tbody>\n",
       "</table>\n",
       "</div>"
      ],
      "text/plain": [
       "      Quantidade         %\n",
       "NaN        20503  0.851029\n",
       " 5.0        2037  0.084551\n",
       " 4.0         580  0.024074\n",
       " 1.0         531  0.022041\n",
       " 3.0         290  0.012037\n",
       " 2.0         151  0.006268"
      ]
     },
     "execution_count": 629,
     "metadata": {},
     "output_type": "execute_result"
    }
   ],
   "source": [
    "def listar_ocorrencias_avaliacao(df):\n",
    "    r = pd.DataFrame(df['AVALIACAO'].value_counts(dropna=False))\n",
    "    r.columns = ['Quantidade']\n",
    "    total = r['Quantidade'].sum()\n",
    "    r['%'] = r['Quantidade'].apply(lambda x: (x / total))\n",
    "    return r\n",
    "\n",
    "\n",
    "listar_ocorrencias_avaliacao(novaBase)"
   ]
  },
  {
   "cell_type": "markdown",
   "metadata": {},
   "source": [
    "- Observando que 85% das instâncias que possuem valores ausentes para o atributo **AVALIACAO**, a remoção dessas linhas não é uma opção. Como não podemos remover, decidimos atribuir o valor \"0.0\" para os valores ausentes do atributo **AVALIACAO**. A decisão se tornou mais consistente, porque o atributo **AVALIACAO**, mesmo sendo numérico, possui 5 valores  (1.0, 2.0, 3.0, 4.0 e 5.0) bem separados e sequênciais. Com isso, inferimos que os valores ausentes seriam o valor \"0.0\":"
   ]
  },
  {
   "cell_type": "code",
   "execution_count": 630,
   "metadata": {},
   "outputs": [
    {
     "data": {
      "text/html": [
       "<div>\n",
       "<style scoped>\n",
       "    .dataframe tbody tr th:only-of-type {\n",
       "        vertical-align: middle;\n",
       "    }\n",
       "\n",
       "    .dataframe tbody tr th {\n",
       "        vertical-align: top;\n",
       "    }\n",
       "\n",
       "    .dataframe thead th {\n",
       "        text-align: right;\n",
       "    }\n",
       "</style>\n",
       "<table border=\"1\" class=\"dataframe\">\n",
       "  <thead>\n",
       "    <tr style=\"text-align: right;\">\n",
       "      <th></th>\n",
       "      <th>Quantidade</th>\n",
       "      <th>%</th>\n",
       "    </tr>\n",
       "  </thead>\n",
       "  <tbody>\n",
       "    <tr>\n",
       "      <th>0.0</th>\n",
       "      <td>20503</td>\n",
       "      <td>0.851029</td>\n",
       "    </tr>\n",
       "    <tr>\n",
       "      <th>5.0</th>\n",
       "      <td>2037</td>\n",
       "      <td>0.084551</td>\n",
       "    </tr>\n",
       "    <tr>\n",
       "      <th>4.0</th>\n",
       "      <td>580</td>\n",
       "      <td>0.024074</td>\n",
       "    </tr>\n",
       "    <tr>\n",
       "      <th>1.0</th>\n",
       "      <td>531</td>\n",
       "      <td>0.022041</td>\n",
       "    </tr>\n",
       "    <tr>\n",
       "      <th>3.0</th>\n",
       "      <td>290</td>\n",
       "      <td>0.012037</td>\n",
       "    </tr>\n",
       "    <tr>\n",
       "      <th>2.0</th>\n",
       "      <td>151</td>\n",
       "      <td>0.006268</td>\n",
       "    </tr>\n",
       "  </tbody>\n",
       "</table>\n",
       "</div>"
      ],
      "text/plain": [
       "     Quantidade         %\n",
       "0.0       20503  0.851029\n",
       "5.0        2037  0.084551\n",
       "4.0         580  0.024074\n",
       "1.0         531  0.022041\n",
       "3.0         290  0.012037\n",
       "2.0         151  0.006268"
      ]
     },
     "execution_count": 630,
     "metadata": {},
     "output_type": "execute_result"
    }
   ],
   "source": [
    "novaBase['AVALIACAO'].fillna(0.0, inplace=True)\n",
    "listar_ocorrencias_avaliacao(novaBase)"
   ]
  },
  {
   "cell_type": "markdown",
   "metadata": {},
   "source": [
    "### 3. Valores inconsistentes\n",
    "- Foi verificado se o atributo **DIA_PEDIDO** confere com a dia do atributo **DATA_PEDIDO**. Para isso utilizamos uma função da linguagem python, que informando a data, a mesma retorna o dia da semana:"
   ]
  },
  {
   "cell_type": "code",
   "execution_count": 631,
   "metadata": {},
   "outputs": [
    {
     "data": {
      "text/html": [
       "<div>\n",
       "<style scoped>\n",
       "    .dataframe tbody tr th:only-of-type {\n",
       "        vertical-align: middle;\n",
       "    }\n",
       "\n",
       "    .dataframe tbody tr th {\n",
       "        vertical-align: top;\n",
       "    }\n",
       "\n",
       "    .dataframe thead th {\n",
       "        text-align: right;\n",
       "    }\n",
       "</style>\n",
       "<table border=\"1\" class=\"dataframe\">\n",
       "  <thead>\n",
       "    <tr style=\"text-align: right;\">\n",
       "      <th></th>\n",
       "      <th>DATA_PEDIDO</th>\n",
       "      <th>DIA_PEDIDO</th>\n",
       "      <th>Dia do pedido (Verificado pela função)</th>\n",
       "    </tr>\n",
       "  </thead>\n",
       "  <tbody>\n",
       "    <tr>\n",
       "      <th>0</th>\n",
       "      <td>2016-07-05</td>\n",
       "      <td>Sunday</td>\n",
       "      <td>Tuesday</td>\n",
       "    </tr>\n",
       "    <tr>\n",
       "      <th>1</th>\n",
       "      <td>2016-07-05</td>\n",
       "      <td>Sunday</td>\n",
       "      <td>Tuesday</td>\n",
       "    </tr>\n",
       "    <tr>\n",
       "      <th>2</th>\n",
       "      <td>2016-07-05</td>\n",
       "      <td>Sunday</td>\n",
       "      <td>Tuesday</td>\n",
       "    </tr>\n",
       "    <tr>\n",
       "      <th>3</th>\n",
       "      <td>2016-07-06</td>\n",
       "      <td>Monday</td>\n",
       "      <td>Wednesday</td>\n",
       "    </tr>\n",
       "    <tr>\n",
       "      <th>4</th>\n",
       "      <td>2016-07-07</td>\n",
       "      <td>Tuesday</td>\n",
       "      <td>Thursday</td>\n",
       "    </tr>\n",
       "    <tr>\n",
       "      <th>5</th>\n",
       "      <td>2016-07-08</td>\n",
       "      <td>Wednesday</td>\n",
       "      <td>Friday</td>\n",
       "    </tr>\n",
       "    <tr>\n",
       "      <th>6</th>\n",
       "      <td>2016-07-09</td>\n",
       "      <td>Thursday</td>\n",
       "      <td>Saturday</td>\n",
       "    </tr>\n",
       "    <tr>\n",
       "      <th>7</th>\n",
       "      <td>2016-07-10</td>\n",
       "      <td>Friday</td>\n",
       "      <td>Sunday</td>\n",
       "    </tr>\n",
       "    <tr>\n",
       "      <th>8</th>\n",
       "      <td>2016-07-12</td>\n",
       "      <td>Sunday</td>\n",
       "      <td>Tuesday</td>\n",
       "    </tr>\n",
       "    <tr>\n",
       "      <th>9</th>\n",
       "      <td>2016-07-15</td>\n",
       "      <td>Wednesday</td>\n",
       "      <td>Friday</td>\n",
       "    </tr>\n",
       "  </tbody>\n",
       "</table>\n",
       "</div>"
      ],
      "text/plain": [
       "  DATA_PEDIDO DIA_PEDIDO Dia do pedido (Verificado pela função)\n",
       "0  2016-07-05     Sunday                                Tuesday\n",
       "1  2016-07-05     Sunday                                Tuesday\n",
       "2  2016-07-05     Sunday                                Tuesday\n",
       "3  2016-07-06     Monday                              Wednesday\n",
       "4  2016-07-07    Tuesday                               Thursday\n",
       "5  2016-07-08  Wednesday                                 Friday\n",
       "6  2016-07-09   Thursday                               Saturday\n",
       "7  2016-07-10     Friday                                 Sunday\n",
       "8  2016-07-12     Sunday                                Tuesday\n",
       "9  2016-07-15  Wednesday                                 Friday"
      ]
     },
     "execution_count": 631,
     "metadata": {},
     "output_type": "execute_result"
    }
   ],
   "source": [
    "#Verificando se a Data do pedido informada na base,\n",
    "# confere com o Dia do pedido informado.\n",
    "\n",
    "df = novaBase.loc[:, ['DATA_PEDIDO', 'DIA_PEDIDO']]\n",
    "\n",
    "df['Dia do pedido (Verificado pela função)'] = pd.DataFrame(\n",
    "    df.apply(\n",
    "        lambda x: datetime.datetime.strptime(x['DATA_PEDIDO'], '%Y-%m-%d')\n",
    "        .strftime('%A'),\n",
    "        axis=1))\n",
    "\n",
    "df.head(10)"
   ]
  },
  {
   "cell_type": "markdown",
   "metadata": {},
   "source": [
    "- Verificamos se existia alguma instância na base de dados, em que o dia do pedido verificado pela função era igual do atributo **DIA_PEDIDO**:"
   ]
  },
  {
   "cell_type": "code",
   "execution_count": 632,
   "metadata": {},
   "outputs": [
    {
     "data": {
      "text/plain": [
       "0"
      ]
     },
     "execution_count": 632,
     "metadata": {},
     "output_type": "execute_result"
    }
   ],
   "source": [
    "filtrado = df1[(\n",
    "    df1['DIA_PEDIDO'] == df1['Dia do pedido (Verificado pela função)'])]\n",
    "len(filtrado)"
   ]
  },
  {
   "cell_type": "markdown",
   "metadata": {},
   "source": [
    "- Devido a verificação, decidimos remover o atributo **DIA_PEDIDO**:"
   ]
  },
  {
   "cell_type": "code",
   "execution_count": 633,
   "metadata": {},
   "outputs": [],
   "source": [
    "novaBase = novaBase.drop(columns=['DIA_PEDIDO'])"
   ]
  },
  {
   "cell_type": "markdown",
   "metadata": {},
   "source": [
    "- A base de dados passou a ter 17 atributos:"
   ]
  },
  {
   "cell_type": "code",
   "execution_count": 634,
   "metadata": {},
   "outputs": [
    {
     "data": {
      "text/plain": [
       "(24092, 17)"
      ]
     },
     "execution_count": 634,
     "metadata": {},
     "output_type": "execute_result"
    }
   ],
   "source": [
    "novaBase.shape"
   ]
  },
  {
   "cell_type": "markdown",
   "metadata": {},
   "source": [
    "- Observamos que para o atributo **TOTAL_PEDIDO**, é dado pela soma de **VALOR_PRODUTOS** e a **TAXA_ENTREGA**. Adicionamos o atributo **STATUS** para efetuar outra verificação posteriormente, com isso resolvemos verificar nossa hipótese:"
   ]
  },
  {
   "cell_type": "code",
   "execution_count": 635,
   "metadata": {},
   "outputs": [
    {
     "data": {
      "text/html": [
       "<div>\n",
       "<style scoped>\n",
       "    .dataframe tbody tr th:only-of-type {\n",
       "        vertical-align: middle;\n",
       "    }\n",
       "\n",
       "    .dataframe tbody tr th {\n",
       "        vertical-align: top;\n",
       "    }\n",
       "\n",
       "    .dataframe thead th {\n",
       "        text-align: right;\n",
       "    }\n",
       "</style>\n",
       "<table border=\"1\" class=\"dataframe\">\n",
       "  <thead>\n",
       "    <tr style=\"text-align: right;\">\n",
       "      <th></th>\n",
       "      <th>VALOR_PRODUTOS</th>\n",
       "      <th>TAXA_ENTREGA</th>\n",
       "      <th>TOTAL_PEDIDO</th>\n",
       "      <th>STATUS</th>\n",
       "      <th>Total pedido (Verificado)</th>\n",
       "    </tr>\n",
       "  </thead>\n",
       "  <tbody>\n",
       "    <tr>\n",
       "      <th>0</th>\n",
       "      <td>16.0</td>\n",
       "      <td>4.0</td>\n",
       "      <td>20.0</td>\n",
       "      <td>Entregue</td>\n",
       "      <td>20.0</td>\n",
       "    </tr>\n",
       "    <tr>\n",
       "      <th>1</th>\n",
       "      <td>28.0</td>\n",
       "      <td>4.0</td>\n",
       "      <td>32.0</td>\n",
       "      <td>Recusado</td>\n",
       "      <td>32.0</td>\n",
       "    </tr>\n",
       "    <tr>\n",
       "      <th>2</th>\n",
       "      <td>13.0</td>\n",
       "      <td>4.0</td>\n",
       "      <td>17.0</td>\n",
       "      <td>Recusado</td>\n",
       "      <td>17.0</td>\n",
       "    </tr>\n",
       "    <tr>\n",
       "      <th>3</th>\n",
       "      <td>11.5</td>\n",
       "      <td>4.0</td>\n",
       "      <td>15.5</td>\n",
       "      <td>Entregue</td>\n",
       "      <td>15.5</td>\n",
       "    </tr>\n",
       "    <tr>\n",
       "      <th>4</th>\n",
       "      <td>19.0</td>\n",
       "      <td>4.0</td>\n",
       "      <td>23.0</td>\n",
       "      <td>Recusado</td>\n",
       "      <td>23.0</td>\n",
       "    </tr>\n",
       "    <tr>\n",
       "      <th>5</th>\n",
       "      <td>42.0</td>\n",
       "      <td>4.0</td>\n",
       "      <td>46.0</td>\n",
       "      <td>Recusado</td>\n",
       "      <td>46.0</td>\n",
       "    </tr>\n",
       "    <tr>\n",
       "      <th>6</th>\n",
       "      <td>9.0</td>\n",
       "      <td>4.0</td>\n",
       "      <td>13.0</td>\n",
       "      <td>Recusado</td>\n",
       "      <td>13.0</td>\n",
       "    </tr>\n",
       "    <tr>\n",
       "      <th>7</th>\n",
       "      <td>29.0</td>\n",
       "      <td>4.0</td>\n",
       "      <td>33.0</td>\n",
       "      <td>Entregue</td>\n",
       "      <td>33.0</td>\n",
       "    </tr>\n",
       "    <tr>\n",
       "      <th>8</th>\n",
       "      <td>32.0</td>\n",
       "      <td>4.0</td>\n",
       "      <td>36.0</td>\n",
       "      <td>Entregue</td>\n",
       "      <td>36.0</td>\n",
       "    </tr>\n",
       "    <tr>\n",
       "      <th>9</th>\n",
       "      <td>12.0</td>\n",
       "      <td>4.0</td>\n",
       "      <td>16.0</td>\n",
       "      <td>Recusado</td>\n",
       "      <td>16.0</td>\n",
       "    </tr>\n",
       "  </tbody>\n",
       "</table>\n",
       "</div>"
      ],
      "text/plain": [
       "   VALOR_PRODUTOS  TAXA_ENTREGA  TOTAL_PEDIDO    STATUS  \\\n",
       "0            16.0           4.0          20.0  Entregue   \n",
       "1            28.0           4.0          32.0  Recusado   \n",
       "2            13.0           4.0          17.0  Recusado   \n",
       "3            11.5           4.0          15.5  Entregue   \n",
       "4            19.0           4.0          23.0  Recusado   \n",
       "5            42.0           4.0          46.0  Recusado   \n",
       "6             9.0           4.0          13.0  Recusado   \n",
       "7            29.0           4.0          33.0  Entregue   \n",
       "8            32.0           4.0          36.0  Entregue   \n",
       "9            12.0           4.0          16.0  Recusado   \n",
       "\n",
       "   Total pedido (Verificado)  \n",
       "0                       20.0  \n",
       "1                       32.0  \n",
       "2                       17.0  \n",
       "3                       15.5  \n",
       "4                       23.0  \n",
       "5                       46.0  \n",
       "6                       13.0  \n",
       "7                       33.0  \n",
       "8                       36.0  \n",
       "9                       16.0  "
      ]
     },
     "execution_count": 635,
     "metadata": {},
     "output_type": "execute_result"
    }
   ],
   "source": [
    "df = novaBase.loc[:,\n",
    "                  ['VALOR_PRODUTOS', 'TAXA_ENTREGA', 'TOTAL_PEDIDO', 'STATUS']]\n",
    "df['Total pedido (Verificado)'] = pd.DataFrame(\n",
    "    df.apply(lambda x: (x['VALOR_PRODUTOS'] + x['TAXA_ENTREGA']), axis=1))\n",
    "\n",
    "df.head(10)"
   ]
  },
  {
   "cell_type": "markdown",
   "metadata": {},
   "source": [
    "- Verificamos se existe alguém fora dessa regra:"
   ]
  },
  {
   "cell_type": "code",
   "execution_count": 636,
   "metadata": {},
   "outputs": [
    {
     "data": {
      "text/plain": [
       "5"
      ]
     },
     "execution_count": 636,
     "metadata": {},
     "output_type": "execute_result"
    }
   ],
   "source": [
    "filtrado_diferente = df[np.isclose(df['TOTAL_PEDIDO'], df[\n",
    "    'Total pedido (Verificado)']) == False]\n",
    "len(filtrado_diferente)"
   ]
  },
  {
   "cell_type": "markdown",
   "metadata": {},
   "source": [
    "- Pela verificação anterior, queremos saber se a diferença foi para mais ou para menos em relação ao **Total pedido (Verificado)**. Primeiro verificamos para mais:"
   ]
  },
  {
   "cell_type": "code",
   "execution_count": 637,
   "metadata": {},
   "outputs": [
    {
     "data": {
      "text/plain": [
       "0"
      ]
     },
     "execution_count": 637,
     "metadata": {},
     "output_type": "execute_result"
    }
   ],
   "source": [
    "filtrado_para_mais = filtrado_diferente[(\n",
    "    filtrado_diferente['TOTAL_PEDIDO'] >\n",
    "    filtrado_diferente['Total pedido (Verificado)'])]\n",
    "len(filtrado_para_mais)"
   ]
  },
  {
   "cell_type": "markdown",
   "metadata": {},
   "source": [
    "- Segundo verificamos para menos:"
   ]
  },
  {
   "cell_type": "code",
   "execution_count": 638,
   "metadata": {},
   "outputs": [
    {
     "data": {
      "text/plain": [
       "5"
      ]
     },
     "execution_count": 638,
     "metadata": {},
     "output_type": "execute_result"
    }
   ],
   "source": [
    "filtrado_para_menos = filtrado_diferente[(\n",
    "    filtrado_diferente['TOTAL_PEDIDO'] <\n",
    "    filtrado_diferente['Total pedido (Verificado)'])]\n",
    "recusados_esperado = len(filtrado_para_menos)\n",
    "recusados_esperado"
   ]
  },
  {
   "cell_type": "markdown",
   "metadata": {},
   "source": [
    "- Inferimos que para um pedido/instância, que tem como valor do atributo **TOTAL_PEDIDO** inferior ao  **Total pedido (Verificado)**, o **STATUS** do pedido deveria ser **Recusado**. Verificamos:"
   ]
  },
  {
   "cell_type": "code",
   "execution_count": 639,
   "metadata": {},
   "outputs": [
    {
     "data": {
      "text/plain": [
       "4"
      ]
     },
     "execution_count": 639,
     "metadata": {},
     "output_type": "execute_result"
    }
   ],
   "source": [
    "recusados = filtrado_para_menos[(filtrado_para_menos['STATUS'] == 'Recusado')]\n",
    "len(recusados)"
   ]
  },
  {
   "cell_type": "code",
   "execution_count": 640,
   "metadata": {},
   "outputs": [
    {
     "data": {
      "text/html": [
       "<div>\n",
       "<style scoped>\n",
       "    .dataframe tbody tr th:only-of-type {\n",
       "        vertical-align: middle;\n",
       "    }\n",
       "\n",
       "    .dataframe tbody tr th {\n",
       "        vertical-align: top;\n",
       "    }\n",
       "\n",
       "    .dataframe thead th {\n",
       "        text-align: right;\n",
       "    }\n",
       "</style>\n",
       "<table border=\"1\" class=\"dataframe\">\n",
       "  <thead>\n",
       "    <tr style=\"text-align: right;\">\n",
       "      <th></th>\n",
       "      <th>VALOR_PRODUTOS</th>\n",
       "      <th>TAXA_ENTREGA</th>\n",
       "      <th>TOTAL_PEDIDO</th>\n",
       "      <th>STATUS</th>\n",
       "      <th>Total pedido (Verificado)</th>\n",
       "    </tr>\n",
       "  </thead>\n",
       "  <tbody>\n",
       "    <tr>\n",
       "      <th>11793</th>\n",
       "      <td>0.0</td>\n",
       "      <td>3.0</td>\n",
       "      <td>0.0</td>\n",
       "      <td>Recusado</td>\n",
       "      <td>3.0</td>\n",
       "    </tr>\n",
       "    <tr>\n",
       "      <th>11804</th>\n",
       "      <td>0.0</td>\n",
       "      <td>3.0</td>\n",
       "      <td>0.0</td>\n",
       "      <td>Recusado</td>\n",
       "      <td>3.0</td>\n",
       "    </tr>\n",
       "    <tr>\n",
       "      <th>11805</th>\n",
       "      <td>0.0</td>\n",
       "      <td>3.0</td>\n",
       "      <td>0.0</td>\n",
       "      <td>Recusado</td>\n",
       "      <td>3.0</td>\n",
       "    </tr>\n",
       "    <tr>\n",
       "      <th>19900</th>\n",
       "      <td>0.0</td>\n",
       "      <td>4.0</td>\n",
       "      <td>0.0</td>\n",
       "      <td>Recusado</td>\n",
       "      <td>4.0</td>\n",
       "    </tr>\n",
       "  </tbody>\n",
       "</table>\n",
       "</div>"
      ],
      "text/plain": [
       "       VALOR_PRODUTOS  TAXA_ENTREGA  TOTAL_PEDIDO    STATUS  \\\n",
       "11793             0.0           3.0           0.0  Recusado   \n",
       "11804             0.0           3.0           0.0  Recusado   \n",
       "11805             0.0           3.0           0.0  Recusado   \n",
       "19900             0.0           4.0           0.0  Recusado   \n",
       "\n",
       "       Total pedido (Verificado)  \n",
       "11793                        3.0  \n",
       "11804                        3.0  \n",
       "11805                        3.0  \n",
       "19900                        4.0  "
      ]
     },
     "execution_count": 640,
     "metadata": {},
     "output_type": "execute_result"
    }
   ],
   "source": [
    "recusados"
   ]
  },
  {
   "cell_type": "markdown",
   "metadata": {},
   "source": [
    "- Pela execução anterior, observamos que existe uma instância com o atributo **STATUS** igual a **Entregue** e o **TOTAL_PEDIDO** menor do que o **Total pedido (Verificado)**:"
   ]
  },
  {
   "cell_type": "code",
   "execution_count": 641,
   "metadata": {},
   "outputs": [
    {
     "data": {
      "text/plain": [
       "1"
      ]
     },
     "execution_count": 641,
     "metadata": {},
     "output_type": "execute_result"
    }
   ],
   "source": [
    "entregue = filtrado_para_menos[(filtrado_para_menos['STATUS'] == 'Entregue')]\n",
    "len(entregue)"
   ]
  },
  {
   "cell_type": "code",
   "execution_count": 642,
   "metadata": {},
   "outputs": [
    {
     "data": {
      "text/html": [
       "<div>\n",
       "<style scoped>\n",
       "    .dataframe tbody tr th:only-of-type {\n",
       "        vertical-align: middle;\n",
       "    }\n",
       "\n",
       "    .dataframe tbody tr th {\n",
       "        vertical-align: top;\n",
       "    }\n",
       "\n",
       "    .dataframe thead th {\n",
       "        text-align: right;\n",
       "    }\n",
       "</style>\n",
       "<table border=\"1\" class=\"dataframe\">\n",
       "  <thead>\n",
       "    <tr style=\"text-align: right;\">\n",
       "      <th></th>\n",
       "      <th>VALOR_PRODUTOS</th>\n",
       "      <th>TAXA_ENTREGA</th>\n",
       "      <th>TOTAL_PEDIDO</th>\n",
       "      <th>STATUS</th>\n",
       "      <th>Total pedido (Verificado)</th>\n",
       "    </tr>\n",
       "  </thead>\n",
       "  <tbody>\n",
       "    <tr>\n",
       "      <th>22722</th>\n",
       "      <td>27.9</td>\n",
       "      <td>1.99</td>\n",
       "      <td>6.89</td>\n",
       "      <td>Entregue</td>\n",
       "      <td>29.89</td>\n",
       "    </tr>\n",
       "  </tbody>\n",
       "</table>\n",
       "</div>"
      ],
      "text/plain": [
       "       VALOR_PRODUTOS  TAXA_ENTREGA  TOTAL_PEDIDO    STATUS  \\\n",
       "22722            27.9          1.99          6.89  Entregue   \n",
       "\n",
       "       Total pedido (Verificado)  \n",
       "22722                      29.89  "
      ]
     },
     "execution_count": 642,
     "metadata": {},
     "output_type": "execute_result"
    }
   ],
   "source": [
    "entregue"
   ]
  },
  {
   "cell_type": "markdown",
   "metadata": {},
   "source": [
    "- Podemos considerar essa instância com valor inconsistente, portanto, decidimos remover a mesma da base de dados:"
   ]
  },
  {
   "cell_type": "code",
   "execution_count": 643,
   "metadata": {},
   "outputs": [
    {
     "data": {
      "text/plain": [
       "(24091, 17)"
      ]
     },
     "execution_count": 643,
     "metadata": {},
     "output_type": "execute_result"
    }
   ],
   "source": [
    "i = entregue.index\n",
    "novaBase = novaBase.drop(i)\n",
    "novaBase.shape"
   ]
  },
  {
   "cell_type": "markdown",
   "metadata": {},
   "source": [
    "### 4. Outliers\n",
    "- Utilizando a visualização e a análise do gráfico **boxplot** exibido neste relatório, observamos que existem outliers nos valores dos atributos **VALOR_PRODUTOS** e **TOTAL_PEDIDOS**:"
   ]
  },
  {
   "cell_type": "code",
   "execution_count": 644,
   "metadata": {},
   "outputs": [
    {
     "data": {
      "image/png": "[encoded data removed]",
      "text/plain": [
       "<matplotlib.figure.Figure at 0x7f6c80533208>"
      ]
     },
     "metadata": {},
     "output_type": "display_data"
    }
   ],
   "source": [
    "boxplot_analise()"
   ]
  },
  {
   "cell_type": "markdown",
   "metadata": {},
   "source": [
    "- Decidimos fazer a eliminação de valores acima de 60, tanto para o atributo **VALOR_PRODUTOS** e **TOTAL_PEDIDO**, com base no gráfico:"
   ]
  },
  {
   "cell_type": "code",
   "execution_count": 645,
   "metadata": {},
   "outputs": [],
   "source": [
    "def remover_outliers(novaBase, valor):\n",
    "    return novaBase.drop(novaBase[(novaBase['VALOR_PRODUTOS'] > valor)\n",
    "                                  & (novaBase['TOTAL_PEDIDO'] > valor)].index)\n",
    "\n",
    "\n",
    "novaBase = remover_outliers(novaBase, 60)"
   ]
  },
  {
   "cell_type": "code",
   "execution_count": 646,
   "metadata": {},
   "outputs": [
    {
     "data": {
      "text/plain": [
       "(23297, 17)"
      ]
     },
     "execution_count": 646,
     "metadata": {},
     "output_type": "execute_result"
    }
   ],
   "source": [
    "novaBase.shape"
   ]
  },
  {
   "cell_type": "markdown",
   "metadata": {},
   "source": [
    "- Verificamos se nos **boxplot** existem ainda outliers:"
   ]
  },
  {
   "cell_type": "code",
   "execution_count": 647,
   "metadata": {},
   "outputs": [
    {
     "data": {
      "image/png": "[encoded data removed]",
      "text/plain": [
       "<matplotlib.figure.Figure at 0x7f6c870e7550>"
      ]
     },
     "metadata": {},
     "output_type": "display_data"
    }
   ],
   "source": [
    "def boxplot_novaBase(novaBase):\n",
    "    fig = plt.figure(figsize=(15, 20))\n",
    "    ax5 = fig.add_subplot(221)\n",
    "    grafico = novaBase[['VALOR_PRODUTOS']].boxplot(\n",
    "        figsize=(20, 5), fontsize=fontsize, ax=ax5)\n",
    "    plt.title('Valor dos produtos')\n",
    "\n",
    "    ax7 = fig.add_subplot(222)\n",
    "    grafico = novaBase[['TOTAL_PEDIDO']].boxplot(\n",
    "        figsize=(20, 5), fontsize=fontsize, ax=ax7)\n",
    "    plt.title('Total de pedidos')\n",
    "\n",
    "\n",
    "boxplot_novaBase(novaBase)"
   ]
  },
  {
   "cell_type": "markdown",
   "metadata": {},
   "source": [
    "- Decidimos fazer novamente a eliminação de valores acima de 55, tanto para o atributo **VALOR_PRODUTOS** e **TOTAL_PEDIDO**, com base no gráfico acima:"
   ]
  },
  {
   "cell_type": "code",
   "execution_count": 648,
   "metadata": {},
   "outputs": [],
   "source": [
    "novaBase = remover_outliers(novaBase, 55)"
   ]
  },
  {
   "cell_type": "code",
   "execution_count": 649,
   "metadata": {},
   "outputs": [
    {
     "data": {
      "text/plain": [
       "(22908, 17)"
      ]
     },
     "execution_count": 649,
     "metadata": {},
     "output_type": "execute_result"
    }
   ],
   "source": [
    "novaBase.shape"
   ]
  },
  {
   "cell_type": "code",
   "execution_count": 650,
   "metadata": {},
   "outputs": [
    {
     "data": {
      "image/png": "[encoded data removed]",
      "text/plain": [
       "<matplotlib.figure.Figure at 0x7f6c81180358>"
      ]
     },
     "metadata": {},
     "output_type": "display_data"
    }
   ],
   "source": [
    "boxplot_novaBase(novaBase)"
   ]
  },
  {
   "cell_type": "markdown",
   "metadata": {},
   "source": [
    "- Novamente a eliminação de valores acima de 55, apenas para o atributo **TOTAL_PEDIDO**, com base no gráfico acima:"
   ]
  },
  {
   "cell_type": "code",
   "execution_count": 651,
   "metadata": {},
   "outputs": [],
   "source": [
    "def remover_outliers_total_pedido(novaBase, valor):\n",
    "    return novaBase.drop(novaBase[(novaBase['TOTAL_PEDIDO'] > valor)].index)\n",
    "\n",
    "\n",
    "novaBase = remover_outliers_total_pedido(novaBase, 55)"
   ]
  },
  {
   "cell_type": "code",
   "execution_count": 652,
   "metadata": {},
   "outputs": [
    {
     "data": {
      "text/plain": [
       "(22676, 17)"
      ]
     },
     "execution_count": 652,
     "metadata": {},
     "output_type": "execute_result"
    }
   ],
   "source": [
    "novaBase.shape"
   ]
  },
  {
   "cell_type": "code",
   "execution_count": 653,
   "metadata": {},
   "outputs": [
    {
     "data": {
      "image/png": "[encoded data removed]",
      "text/plain": [
       "<matplotlib.figure.Figure at 0x7f6c808a6630>"
      ]
     },
     "metadata": {},
     "output_type": "display_data"
    }
   ],
   "source": [
    "boxplot_novaBase(novaBase)"
   ]
  },
  {
   "cell_type": "markdown",
   "metadata": {},
   "source": [
    "- Outra vez a eliminação considerando valores acima de 52, tanto para o atributo **VALOR_PRODUTOS** e **TOTAL_PEDIDO**, logo em seguida apenas para **TOTAL_PEDIDO**, com base no gráfico acima:"
   ]
  },
  {
   "cell_type": "code",
   "execution_count": 654,
   "metadata": {},
   "outputs": [],
   "source": [
    "novaBase = remover_outliers(novaBase, 52)\n",
    "novaBase = remover_outliers_total_pedido(novaBase, 52)"
   ]
  },
  {
   "cell_type": "code",
   "execution_count": 655,
   "metadata": {},
   "outputs": [
    {
     "data": {
      "text/plain": [
       "(22429, 17)"
      ]
     },
     "execution_count": 655,
     "metadata": {},
     "output_type": "execute_result"
    }
   ],
   "source": [
    "novaBase.shape"
   ]
  },
  {
   "cell_type": "code",
   "execution_count": 656,
   "metadata": {},
   "outputs": [
    {
     "data": {
      "image/png": "[encoded data removed]",
      "text/plain": [
       "<matplotlib.figure.Figure at 0x7f6c804150b8>"
      ]
     },
     "metadata": {},
     "output_type": "display_data"
    }
   ],
   "source": [
    "boxplot_novaBase(novaBase)"
   ]
  },
  {
   "cell_type": "markdown",
   "metadata": {},
   "source": [
    "- A remoção foi satisfatória, não é preciso remover mais. Portanto, após a execução do pré-processamento ainda possuímos,boa quantidade de dados:"
   ]
  },
  {
   "cell_type": "code",
   "execution_count": 657,
   "metadata": {},
   "outputs": [
    {
     "data": {
      "text/plain": [
       "(22429, 17)"
      ]
     },
     "execution_count": 657,
     "metadata": {},
     "output_type": "execute_result"
    }
   ],
   "source": [
    "novaBase.shape"
   ]
  },
  {
   "cell_type": "markdown",
   "metadata": {},
   "source": [
    "- Após executar o pré-processamento, temos a base pré-processada:"
   ]
  },
  {
   "cell_type": "code",
   "execution_count": 658,
   "metadata": {},
   "outputs": [],
   "source": [
    "novaBase.to_csv('base_pre_processada_aplicativo.csv')"
   ]
  },
  {
   "cell_type": "code",
   "execution_count": null,
   "metadata": {},
   "outputs": [],
   "source": []
  }
 ],
 "metadata": {
  "kernelspec": {
   "display_name": "Python 3",
   "language": "python",
   "name": "python3"
  },
  "language_info": {
   "codemirror_mode": {
    "name": "ipython",
    "version": 3
   },
   "file_extension": ".py",
   "mimetype": "text/x-python",
   "name": "python",
   "nbconvert_exporter": "python",
   "pygments_lexer": "ipython3",
   "version": "3.6.4"
  }
 },
 "nbformat": 4,
 "nbformat_minor": 2
}
